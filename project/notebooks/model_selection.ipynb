{
 "cells": [
  {
   "cell_type": "markdown",
   "metadata": {},
   "source": [
    "# **Finding the best Model fo this Problem**"
   ]
  },
  {
   "cell_type": "markdown",
   "metadata": {},
   "source": [
    "Importing necessary libraries"
   ]
  },
  {
   "cell_type": "code",
   "execution_count": 1,
   "metadata": {},
   "outputs": [],
   "source": [
    "import numpy as np \n",
    "import pandas as pd \n",
    "import matplotlib.pyplot as plt \n",
    "import seaborn as sns"
   ]
  },
  {
   "cell_type": "code",
   "execution_count": 2,
   "metadata": {},
   "outputs": [],
   "source": [
    "from sklearn.metrics import accuracy_score, confusion_matrix, roc_auc_score\n",
    "from sklearn.model_selection import train_test_split, RandomizedSearchCV\n",
    "from sklearn.ensemble import RandomForestClassifier, AdaBoostClassifier\n",
    "from sklearn.linear_model import LogisticRegression, RidgeClassifier\n",
    "from sklearn.neighbors import KNeighborsClassifier\n",
    "from sklearn.naive_bayes import MultinomialNB\n",
    "from sklearn.svm import SVC"
   ]
  },
  {
   "cell_type": "code",
   "execution_count": 3,
   "metadata": {},
   "outputs": [],
   "source": [
    "import warnings\n",
    "warnings.filterwarnings(\"ignore\")"
   ]
  },
  {
   "cell_type": "markdown",
   "metadata": {},
   "source": [
    "Calling the data from the path"
   ]
  },
  {
   "cell_type": "code",
   "execution_count": 4,
   "metadata": {},
   "outputs": [
    {
     "data": {
      "text/html": [
       "<div>\n",
       "<style scoped>\n",
       "    .dataframe tbody tr th:only-of-type {\n",
       "        vertical-align: middle;\n",
       "    }\n",
       "\n",
       "    .dataframe tbody tr th {\n",
       "        vertical-align: top;\n",
       "    }\n",
       "\n",
       "    .dataframe thead th {\n",
       "        text-align: right;\n",
       "    }\n",
       "</style>\n",
       "<table border=\"1\" class=\"dataframe\">\n",
       "  <thead>\n",
       "    <tr style=\"text-align: right;\">\n",
       "      <th></th>\n",
       "      <th>Unnamed: 0</th>\n",
       "      <th>Gender</th>\n",
       "      <th>Age</th>\n",
       "      <th>Customer Type</th>\n",
       "      <th>Type of Travel</th>\n",
       "      <th>Class</th>\n",
       "      <th>Flight Distance</th>\n",
       "      <th>Departure Delay</th>\n",
       "      <th>Arrival Delay</th>\n",
       "      <th>Departure and Arrival Time Convenience</th>\n",
       "      <th>Satisfaction_Label</th>\n",
       "      <th>flight_service_1</th>\n",
       "      <th>flight_service_2</th>\n",
       "      <th>flight_service_3</th>\n",
       "    </tr>\n",
       "  </thead>\n",
       "  <tbody>\n",
       "    <tr>\n",
       "      <th>0</th>\n",
       "      <td>0</td>\n",
       "      <td>1</td>\n",
       "      <td>48</td>\n",
       "      <td>0</td>\n",
       "      <td>0</td>\n",
       "      <td>0</td>\n",
       "      <td>1</td>\n",
       "      <td>2</td>\n",
       "      <td>2</td>\n",
       "      <td>3</td>\n",
       "      <td>0</td>\n",
       "      <td>3.33</td>\n",
       "      <td>4.0</td>\n",
       "      <td>4.50</td>\n",
       "    </tr>\n",
       "    <tr>\n",
       "      <th>1</th>\n",
       "      <td>1</td>\n",
       "      <td>0</td>\n",
       "      <td>35</td>\n",
       "      <td>1</td>\n",
       "      <td>0</td>\n",
       "      <td>0</td>\n",
       "      <td>1</td>\n",
       "      <td>3</td>\n",
       "      <td>3</td>\n",
       "      <td>2</td>\n",
       "      <td>1</td>\n",
       "      <td>3.33</td>\n",
       "      <td>4.4</td>\n",
       "      <td>4.25</td>\n",
       "    </tr>\n",
       "    <tr>\n",
       "      <th>2</th>\n",
       "      <td>2</td>\n",
       "      <td>1</td>\n",
       "      <td>41</td>\n",
       "      <td>1</td>\n",
       "      <td>0</td>\n",
       "      <td>0</td>\n",
       "      <td>2</td>\n",
       "      <td>0</td>\n",
       "      <td>0</td>\n",
       "      <td>4</td>\n",
       "      <td>1</td>\n",
       "      <td>4.33</td>\n",
       "      <td>4.2</td>\n",
       "      <td>3.25</td>\n",
       "    </tr>\n",
       "    <tr>\n",
       "      <th>3</th>\n",
       "      <td>3</td>\n",
       "      <td>1</td>\n",
       "      <td>50</td>\n",
       "      <td>1</td>\n",
       "      <td>0</td>\n",
       "      <td>0</td>\n",
       "      <td>3</td>\n",
       "      <td>0</td>\n",
       "      <td>0</td>\n",
       "      <td>2</td>\n",
       "      <td>1</td>\n",
       "      <td>3.00</td>\n",
       "      <td>4.6</td>\n",
       "      <td>4.25</td>\n",
       "    </tr>\n",
       "    <tr>\n",
       "      <th>4</th>\n",
       "      <td>4</td>\n",
       "      <td>0</td>\n",
       "      <td>49</td>\n",
       "      <td>1</td>\n",
       "      <td>0</td>\n",
       "      <td>0</td>\n",
       "      <td>3</td>\n",
       "      <td>0</td>\n",
       "      <td>2</td>\n",
       "      <td>3</td>\n",
       "      <td>1</td>\n",
       "      <td>3.67</td>\n",
       "      <td>4.0</td>\n",
       "      <td>3.00</td>\n",
       "    </tr>\n",
       "  </tbody>\n",
       "</table>\n",
       "</div>"
      ],
      "text/plain": [
       "   Unnamed: 0  Gender  Age  Customer Type  Type of Travel  Class  \\\n",
       "0           0       1   48              0               0      0   \n",
       "1           1       0   35              1               0      0   \n",
       "2           2       1   41              1               0      0   \n",
       "3           3       1   50              1               0      0   \n",
       "4           4       0   49              1               0      0   \n",
       "\n",
       "   Flight Distance  Departure Delay  Arrival Delay  \\\n",
       "0                1                2              2   \n",
       "1                1                3              3   \n",
       "2                2                0              0   \n",
       "3                3                0              0   \n",
       "4                3                0              2   \n",
       "\n",
       "   Departure and Arrival Time Convenience  Satisfaction_Label  \\\n",
       "0                                       3                   0   \n",
       "1                                       2                   1   \n",
       "2                                       4                   1   \n",
       "3                                       2                   1   \n",
       "4                                       3                   1   \n",
       "\n",
       "   flight_service_1  flight_service_2  flight_service_3  \n",
       "0              3.33               4.0              4.50  \n",
       "1              3.33               4.4              4.25  \n",
       "2              4.33               4.2              3.25  \n",
       "3              3.00               4.6              4.25  \n",
       "4              3.67               4.0              3.00  "
      ]
     },
     "execution_count": 4,
     "metadata": {},
     "output_type": "execute_result"
    }
   ],
   "source": [
    "data = pd.read_csv(r\"/root/MLOPS_PROJEST_WSL/Airline-Passenger-Satisfaction/project/notebooks/processed_data.csv\")\n",
    "data.head(5)"
   ]
  },
  {
   "cell_type": "markdown",
   "metadata": {},
   "source": [
    "Dividing the data into target and features in seperate variables"
   ]
  },
  {
   "cell_type": "code",
   "execution_count": 5,
   "metadata": {},
   "outputs": [],
   "source": [
    "X = data.drop(columns=[\"Satisfaction_Label\"], axis=1)\n",
    "y = data[\"Satisfaction_Label\"]"
   ]
  },
  {
   "cell_type": "markdown",
   "metadata": {},
   "source": [
    "Spliting data "
   ]
  },
  {
   "cell_type": "code",
   "execution_count": 6,
   "metadata": {},
   "outputs": [
    {
     "data": {
      "text/plain": [
       "((103904, 13), (25976, 13))"
      ]
     },
     "execution_count": 6,
     "metadata": {},
     "output_type": "execute_result"
    }
   ],
   "source": [
    "# Split the dataset into training and testing sets\n",
    "X_train, X_test, y_train, y_test = train_test_split(X, y, test_size=0.2, random_state=42)\n",
    "\n",
    "# Display the shapes of the training and testing sets\n",
    "X_train.shape, X_test.shape  # Shows the shapes of training and testing sets\n"
   ]
  },
  {
   "cell_type": "markdown",
   "metadata": {},
   "source": [
    "Creating an function to check evaluation of model"
   ]
  },
  {
   "cell_type": "code",
   "execution_count": 7,
   "metadata": {},
   "outputs": [],
   "source": [
    "def evaluate_model(true, pred):\n",
    "    # Calculate accuracy using true labels and predicted labels\n",
    "    accuracy = accuracy_score(true, pred)\n",
    "    \n",
    "    # Generate confusion matrix using true labels and predicted labels\n",
    "    confusion_matrix_result = confusion_matrix(true, pred)\n",
    "    \n",
    "    # Calculate ROC AUC score using true labels and predicted labels\n",
    "    roc_auc = roc_auc_score(true, pred)\n",
    "    \n",
    "    # Return the calculated metrics: accuracy, confusion matrix, and ROC AUC score\n",
    "    return accuracy, confusion_matrix_result, roc_auc\n"
   ]
  },
  {
   "cell_type": "code",
   "execution_count": 16,
   "metadata": {},
   "outputs": [
    {
     "name": "stdout",
     "output_type": "stream",
     "text": [
      "-----------LogisticRegression-----------\n",
      "Model performance on training set\n",
      "accuracy_score : 0.57\n",
      "confusion_matrix :\n",
      " [[58729     0]\n",
      " [45175     0]]\n",
      "roc_auc : 0.5\n",
      "Model performance on testing set\n",
      "accuracy_score : 0.57\n",
      "confusion_matrix :\n",
      " [[14723     0]\n",
      " [11253     0]]\n",
      "roc_auc : 0.5\n",
      "\n",
      "\n",
      "-----------RidgeClassifier-----------\n",
      "Model performance on training set\n",
      "accuracy_score : 0.86\n",
      "confusion_matrix :\n",
      " [[51804  6925]\n",
      " [ 7592 37583]]\n",
      "roc_auc : 0.86\n",
      "Model performance on testing set\n",
      "accuracy_score : 0.86\n",
      "confusion_matrix :\n",
      " [[12984  1739]\n",
      " [ 1846  9407]]\n",
      "roc_auc : 0.86\n",
      "\n",
      "\n",
      "-----------RandomForestClassifier-----------\n",
      "Model performance on training set\n",
      "accuracy_score : 1.0\n",
      "confusion_matrix :\n",
      " [[58727     2]\n",
      " [    3 45172]]\n",
      "roc_auc : 1.0\n",
      "Model performance on testing set\n",
      "accuracy_score : 0.92\n",
      "confusion_matrix :\n",
      " [[14015   708]\n",
      " [ 1408  9845]]\n",
      "roc_auc : 0.91\n",
      "\n",
      "\n",
      "-----------AdaBoostClassifier-----------\n",
      "Model performance on training set\n",
      "accuracy_score : 0.88\n",
      "confusion_matrix :\n",
      " [[52651  6078]\n",
      " [ 6292 38883]]\n",
      "roc_auc : 0.88\n",
      "Model performance on testing set\n",
      "accuracy_score : 0.88\n",
      "confusion_matrix :\n",
      " [[13193  1530]\n",
      " [ 1608  9645]]\n",
      "roc_auc : 0.88\n",
      "\n",
      "\n",
      "-----------KNeighborsClassifier-----------\n",
      "Model performance on training set\n",
      "accuracy_score : 0.79\n",
      "confusion_matrix :\n",
      " [[48211 10518]\n",
      " [11679 33496]]\n",
      "roc_auc : 0.78\n",
      "Model performance on testing set\n",
      "accuracy_score : 0.68\n",
      "confusion_matrix :\n",
      " [[10561  4162]\n",
      " [ 4249  7004]]\n",
      "roc_auc : 0.67\n",
      "\n",
      "\n",
      "-----------MultinomialNB-----------\n",
      "Model performance on training set\n",
      "accuracy_score : 0.65\n",
      "confusion_matrix :\n",
      " [[39939 18790]\n",
      " [17313 27862]]\n",
      "roc_auc : 0.65\n",
      "Model performance on testing set\n",
      "accuracy_score : 0.66\n",
      "confusion_matrix :\n",
      " [[10075  4648]\n",
      " [ 4246  7007]]\n",
      "roc_auc : 0.65\n",
      "\n",
      "\n"
     ]
    }
   ],
   "source": [
    "from sklearn.linear_model import LogisticRegression, RidgeClassifier\n",
    "from sklearn.ensemble import RandomForestClassifier, AdaBoostClassifier\n",
    "from sklearn.neighbors import KNeighborsClassifier\n",
    "from sklearn.naive_bayes import MultinomialNB\n",
    "from sklearn.svm import SVC\n",
    "from sklearn.metrics import accuracy_score, confusion_matrix, roc_auc_score\n",
    "\n",
    "# Assuming X_train, X_test, y_train, y_test are already defined\n",
    "\n",
    "model = {\n",
    "    \"LogisticRegression\": LogisticRegression(),\n",
    "    \"RidgeClassifier\": RidgeClassifier(),\n",
    "    \"RandomForestClassifier\": RandomForestClassifier(),\n",
    "    \"AdaBoostClassifier\": AdaBoostClassifier(),\n",
    "    \"KNeighborsClassifier\": KNeighborsClassifier(),\n",
    "    \"MultinomialNB\": MultinomialNB(),\n",
    "    # \"SVC\": SVC()\n",
    "}\n",
    "\n",
    "model_list = []\n",
    "accuracy_list = []\n",
    "\n",
    "for model_name, model_instant in model.items():\n",
    "    # Train each model\n",
    "    model_instant.fit(X_train, y_train)\n",
    "\n",
    "    # Predict on training and testing sets\n",
    "    y_train_pred = model_instant.predict(X_train)\n",
    "    y_test_pred = model_instant.predict(X_test)\n",
    "\n",
    "    # Evaluate model performance on training set\n",
    "    model_train_accuracy, model_train_confusion_matrix, model_train_roc_auc = evaluate_model(y_train, y_train_pred)\n",
    "    \n",
    "    # Evaluate model performance on testing set\n",
    "    model_test_accuracy, model_test_confusion_matrix, model_test_roc_auc = evaluate_model(y_test, y_test_pred)\n",
    "\n",
    "    model_list.append(model_name)\n",
    "\n",
    "    # Display model performance for training set\n",
    "    print(f\"-----------{model_name}-----------\")\n",
    "    print(\"Model performance on training set\")\n",
    "    print(f\"accuracy_score : {(model_train_accuracy).round(2)}\")\n",
    "    print(f\"confusion_matrix :\\n {(model_train_confusion_matrix).round(2)}\")\n",
    "    print(f\"roc_auc : {(model_train_roc_auc).round(2)}\")\n",
    "\n",
    "    # Display model performance for testing set\n",
    "    print(\"Model performance on testing set\")\n",
    "    print(f\"accuracy_score : {(model_test_accuracy).round(2)}\")\n",
    "    print(f\"confusion_matrix :\\n {(model_test_confusion_matrix).round(2)}\")\n",
    "    print(f\"roc_auc : {(model_test_roc_auc).round(2)}\")\n",
    "    print(\"\\n\")\n",
    "\n",
    "    accuracy_list.append(model_test_accuracy)\n"
   ]
  },
  {
   "cell_type": "code",
   "execution_count": 17,
   "metadata": {},
   "outputs": [
    {
     "data": {
      "text/html": [
       "<div>\n",
       "<style scoped>\n",
       "    .dataframe tbody tr th:only-of-type {\n",
       "        vertical-align: middle;\n",
       "    }\n",
       "\n",
       "    .dataframe tbody tr th {\n",
       "        vertical-align: top;\n",
       "    }\n",
       "\n",
       "    .dataframe thead th {\n",
       "        text-align: right;\n",
       "    }\n",
       "</style>\n",
       "<table border=\"1\" class=\"dataframe\">\n",
       "  <thead>\n",
       "    <tr style=\"text-align: right;\">\n",
       "      <th></th>\n",
       "      <th>Model_Name</th>\n",
       "      <th>Accuracy_Score</th>\n",
       "    </tr>\n",
       "  </thead>\n",
       "  <tbody>\n",
       "    <tr>\n",
       "      <th>2</th>\n",
       "      <td>RandomForestClassifier</td>\n",
       "      <td>0.918540</td>\n",
       "    </tr>\n",
       "    <tr>\n",
       "      <th>3</th>\n",
       "      <td>AdaBoostClassifier</td>\n",
       "      <td>0.879196</td>\n",
       "    </tr>\n",
       "    <tr>\n",
       "      <th>1</th>\n",
       "      <td>RidgeClassifier</td>\n",
       "      <td>0.861988</td>\n",
       "    </tr>\n",
       "    <tr>\n",
       "      <th>4</th>\n",
       "      <td>KNeighborsClassifier</td>\n",
       "      <td>0.676201</td>\n",
       "    </tr>\n",
       "    <tr>\n",
       "      <th>5</th>\n",
       "      <td>MultinomialNB</td>\n",
       "      <td>0.657607</td>\n",
       "    </tr>\n",
       "    <tr>\n",
       "      <th>0</th>\n",
       "      <td>LogisticRegression</td>\n",
       "      <td>0.566792</td>\n",
       "    </tr>\n",
       "  </tbody>\n",
       "</table>\n",
       "</div>"
      ],
      "text/plain": [
       "               Model_Name  Accuracy_Score\n",
       "2  RandomForestClassifier        0.918540\n",
       "3      AdaBoostClassifier        0.879196\n",
       "1         RidgeClassifier        0.861988\n",
       "4    KNeighborsClassifier        0.676201\n",
       "5           MultinomialNB        0.657607\n",
       "0      LogisticRegression        0.566792"
      ]
     },
     "execution_count": 17,
     "metadata": {},
     "output_type": "execute_result"
    }
   ],
   "source": [
    "pd.DataFrame(list(zip(model_list, accuracy_list)), columns=[\"Model_Name\", \"Accuracy_Score\"]).sort_values(by=[\"Accuracy_Score\"], ascending=False)"
   ]
  },
  {
   "cell_type": "code",
   "execution_count": 19,
   "metadata": {},
   "outputs": [
    {
     "name": "stdout",
     "output_type": "stream",
     "text": [
      "Accuracy : 91.9\n"
     ]
    }
   ],
   "source": [
    "model = RandomForestClassifier()  # Initializing RandomForestClassifier\n",
    "model.fit(X_train, y_train)  # Fitting the model to the training data\n",
    "y_pred = model.predict(X_test)  # Predicting on the test set\n",
    "score = accuracy_score(y_test, y_pred) * 100  # Calculating accuracy\n",
    "print(\"Accuracy : {:.1f}\".format(score))  # Printing the accuracy score"
   ]
  },
  {
   "cell_type": "markdown",
   "metadata": {},
   "source": [
    "**The RandomForestClassifier demonstrates high accuracy on both training and testing sets, with minimal misclassifications (as seen in the confusion matrix) and a robust ROC AUC score, indicating strong discriminatory power between classes.**"
   ]
  }
 ],
 "metadata": {
  "kernelspec": {
   "display_name": "MYENV",
   "language": "python",
   "name": "python3"
  },
  "language_info": {
   "codemirror_mode": {
    "name": "ipython",
    "version": 3
   },
   "file_extension": ".py",
   "mimetype": "text/x-python",
   "name": "python",
   "nbconvert_exporter": "python",
   "pygments_lexer": "ipython3",
   "version": "3.10.12"
  }
 },
 "nbformat": 4,
 "nbformat_minor": 2
}
